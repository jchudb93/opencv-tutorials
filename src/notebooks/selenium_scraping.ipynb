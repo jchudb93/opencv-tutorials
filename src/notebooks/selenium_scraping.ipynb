{
 "cells": [
  {
   "cell_type": "code",
   "execution_count": 1,
   "metadata": {},
   "outputs": [],
   "source": [
    "%load_ext autoreload\n",
    "%autoreload 2\n",
    "\n",
    "import pandas as pd\n",
    "import urllib\n",
    "import sys\n",
    "import time\n",
    "import pytesseract\n",
    "import time\n",
    "import numpy as np\n",
    "import cv2\n",
    "import os\n",
    "\n",
    "from selenium import webdriver\n",
    "from selenium.webdriver.common.keys import Keys\n",
    "from selenium.webdriver.support.ui import Select\n",
    "from selenium.webdriver.firefox.firefox_binary import FirefoxBinary\n",
    "from selenium.common.exceptions import NoSuchElementException\n",
    "from selenium.webdriver.support.ui import Select\n",
    "from selenium.webdriver.support import expected_conditions as EC\n",
    "from selenium.webdriver.common.by import By\n",
    "from selenium.webdriver.support.ui import WebDriverWait\n",
    "from selenium.webdriver.common.action_chains import ActionChains\n",
    "\n",
    "from PIL import Image\n",
    "from pytesseract import image_to_string\n",
    "from selenium.common.exceptions import NoSuchElementException,ElementClickInterceptedException \n",
    "from PIL import Image, ImageFilter\n",
    "from datetime import datetime\n",
    "from selenium.webdriver.firefox.options import Options\n",
    "\n",
    "from utils import *"
   ]
  },
  {
   "cell_type": "code",
   "execution_count": 2,
   "metadata": {},
   "outputs": [],
   "source": [
    "URL_SCRAPING = 'https://www.sunarp.gob.pe/seccion/servicios/detalles/0/c3.html'\n",
    "GECKO_PATH = 'geckodriver.exe'\n",
    "FIREFOX_PATH = os.environ['FIREFOX_HOME']\n",
    "CAPTCHA_PATH = 'img/captchas'\n",
    "\n",
    "binary = FirefoxBinary(FIREFOX_PATH + r'\\firefox.exe')\n",
    "\n",
    "profile = webdriver.FirefoxProfile()\n",
    "profile.set_preference(\"dom.disable_beforeunload\", True)\n",
    "options = Options()\n",
    "options.add_argument(\"--headless\")\n",
    "\n",
    "profile.set_preference(\"browser.tabs.remote.autostart\", False)\n",
    "profile.set_preference(\"browser.tabs.remote.autostart.1\", False)\n",
    "profile.set_preference(\"browser.tabs.remote.autostart.2\", False)\n",
    "profile.set_preference(\"browser.tabs.remote.force-enable\", False)"
   ]
  },
  {
   "cell_type": "code",
   "execution_count": 3,
   "metadata": {},
   "outputs": [],
   "source": [
    "driver = instance_driver(options, profile, binary, GECKO_PATH)\n",
    "load_page(driver, URL_SCRAPING)\n",
    "navigate_to_form(driver, xpath = '//div//a')"
   ]
  },
  {
   "cell_type": "code",
   "execution_count": 4,
   "metadata": {},
   "outputs": [
    {
     "data": {
      "text/plain": [
       "True"
      ]
     },
     "execution_count": 4,
     "metadata": {},
     "output_type": "execute_result"
    }
   ],
   "source": [
    "driver.save_screenshot(\"wat.png\")"
   ]
  },
  {
   "cell_type": "code",
   "execution_count": 5,
   "metadata": {},
   "outputs": [],
   "source": [
    "captcha_element = driver.find_element_by_id(\"ctl00_MainContent_captch_cv\")"
   ]
  },
  {
   "cell_type": "code",
   "execution_count": 11,
   "metadata": {},
   "outputs": [],
   "source": [
    "save_image_path = f\"{os.getcwd()}\\\\img\\\\captchas\\\\screenshot.PNG\"\n",
    "get_captcha(driver, captcha_element, save_image_path)"
   ]
  },
  {
   "cell_type": "code",
   "execution_count": 12,
   "metadata": {},
   "outputs": [],
   "source": [
    "transform_image(save_image_path,f'{os.getcwd()}\\\\img\\\\processed\\\\for_ocr','png')"
   ]
  },
  {
   "cell_type": "code",
   "execution_count": null,
   "metadata": {},
   "outputs": [],
   "source": []
  }
 ],
 "metadata": {
  "kernelspec": {
   "display_name": "Python 3",
   "language": "python",
   "name": "python3"
  },
  "language_info": {
   "codemirror_mode": {
    "name": "ipython",
    "version": 3
   },
   "file_extension": ".py",
   "mimetype": "text/x-python",
   "name": "python",
   "nbconvert_exporter": "python",
   "pygments_lexer": "ipython3",
   "version": "3.6.5"
  }
 },
 "nbformat": 4,
 "nbformat_minor": 2
}
